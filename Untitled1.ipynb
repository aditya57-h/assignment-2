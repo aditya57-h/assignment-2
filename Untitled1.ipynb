{
  "nbformat": 4,
  "nbformat_minor": 0,
  "metadata": {
    "colab": {
      "provenance": []
    },
    "kernelspec": {
      "name": "python3",
      "display_name": "Python 3"
    },
    "language_info": {
      "name": "python"
    }
  },
  "cells": [
    {
      "cell_type": "markdown",
      "source": [
        "[1] write a simple programe in html that displays the heading \"HTML defines the content and structure of your website\" on the web browser?\n",
        "\n",
        "- the program that displays heading in html."
      ],
      "metadata": {
        "id": "ycjpetBOKDjy"
      }
    },
    {
      "cell_type": "code",
      "execution_count": 1,
      "metadata": {
        "colab": {
          "base_uri": "https://localhost:8080/",
          "height": 89
        },
        "id": "_5MMjFTPENKo",
        "outputId": "ef401d64-8ebf-43cd-c470-82e7643d6000"
      },
      "outputs": [
        {
          "output_type": "display_data",
          "data": {
            "text/plain": [
              "<IPython.core.display.HTML object>"
            ],
            "text/html": [
              "\n",
              "<h1>  HTML defines the content and the structure of your website <h1> \n"
            ]
          },
          "metadata": {}
        }
      ],
      "source": [
        "%%html\n",
        "\n",
        "<h1>  HTML defines the content and the structure of your website <h1>"
      ]
    },
    {
      "cell_type": "markdown",
      "source": [],
      "metadata": {
        "id": "__R0pFCVE_8v"
      }
    },
    {
      "cell_type": "markdown",
      "source": [
        "[2] explains the purpuse of the comments in html amd provide an example for how to use comments in an html document?\n",
        "\n",
        "- comments are used for non-exicuting code notes, we use comments to hide\n",
        "    codes notes and the web browser ignores the comments,\n",
        "    and we can use it in html document like this-"
      ],
      "metadata": {
        "id": "C_dOQ97cFDrg"
      }
    },
    {
      "cell_type": "code",
      "source": [
        "%%html\n",
        "<!--the comment between-->"
      ],
      "metadata": {
        "colab": {
          "base_uri": "https://localhost:8080/",
          "height": 17
        },
        "id": "SjiK7AgCHrZW",
        "outputId": "f644420a-5ddf-4453-eabf-e42e20ba7359"
      },
      "execution_count": 7,
      "outputs": [
        {
          "output_type": "display_data",
          "data": {
            "text/plain": [
              "<IPython.core.display.HTML object>"
            ],
            "text/html": [
              "<!--the comment between-->\n"
            ]
          },
          "metadata": {}
        }
      ]
    },
    {
      "cell_type": "markdown",
      "source": [
        "[3] write an html program that includes a heading, a paragraph text, a\n",
        "   horizontal line and a line break. arrange these elements to create a simple web page layout\n",
        "   - a programe that include the heading, a paragraph text, a horizontal line and break tag."
      ],
      "metadata": {
        "id": "ofYZ6qNYKhTi"
      }
    },
    {
      "cell_type": "code",
      "source": [
        "%%html\n",
        " <h1> heading 1 </h1>\n",
        "\n",
        " <h2> heading 2 </h2>\n",
        "\n",
        " <h3> heading 3 </h3>\n",
        "\n",
        " <h4> heading 4 </h4>\n",
        "\n",
        " <h5> heading 5 </h5>\n",
        "\n",
        " <h6> heading 6 </h6>\n",
        "\n",
        "<p> paragraph text </p>\n",
        "\n",
        "<hr>\n",
        "\n",
        "<br>\n"
      ],
      "metadata": {
        "colab": {
          "base_uri": "https://localhost:8080/",
          "height": 310
        },
        "id": "mX-83MukM9KT",
        "outputId": "141fcd8c-6766-46a9-e422-15b4f015b3ce"
      },
      "execution_count": 8,
      "outputs": [
        {
          "output_type": "display_data",
          "data": {
            "text/plain": [
              "<IPython.core.display.HTML object>"
            ],
            "text/html": [
              " <h1> heading 1 </h1>\n",
              "\n",
              " <h2> heading 2 </h2>\n",
              "\n",
              " <h3> heading 3 </h3>\n",
              "\n",
              " <h4> heading 4 </h4>\n",
              "\n",
              " <h5> heading 5 </h5>\n",
              "\n",
              " <h6> heading 6 </h6>\n",
              "\n",
              "<p> paragraph text </p>\n",
              "\n",
              "<hr>\n",
              "\n",
              "<br>\n"
            ]
          },
          "metadata": {}
        }
      ]
    },
    {
      "cell_type": "markdown",
      "source": [
        "[4] write a short note on tag and element with an example ?\n",
        "- a tag is the smallest individual unit in html, using multple tag we create a web page and a element includes a tag, content and the end tag.\n",
        "example-"
      ],
      "metadata": {
        "id": "bgWOuyneO_6g"
      }
    },
    {
      "cell_type": "code",
      "source": [
        "%%html\n",
        " <p> paragraph text </p>"
      ],
      "metadata": {
        "colab": {
          "base_uri": "https://localhost:8080/",
          "height": 46
        },
        "id": "b3mI3B56Qy6w",
        "outputId": "23dccb64-ac50-41a9-b7f4-ae93ad574519"
      },
      "execution_count": 10,
      "outputs": [
        {
          "output_type": "display_data",
          "data": {
            "text/plain": [
              "<IPython.core.display.HTML object>"
            ],
            "text/html": [
              " <p> paragraph text </p>\n"
            ]
          },
          "metadata": {}
        }
      ]
    },
    {
      "cell_type": "markdown",
      "source": [
        "[5] what is the doctotype declearation in html?\n",
        "\n",
        " - doctotype is the declearation that tells the browser which version of html to use."
      ],
      "metadata": {
        "id": "X_oiF1miPRIq"
      }
    }
  ]
}